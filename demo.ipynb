{
 "cells": [
  {
   "cell_type": "code",
   "execution_count": 1,
   "metadata": {},
   "outputs": [],
   "source": [
    "from model import GPT\n",
    "import json\n",
    "from safetensors.torch import load_model\n",
    "from inference import generate, text_to_token_ids, token_ids_to_text\n",
    "import sentencepiece as spm"
   ]
  },
  {
   "cell_type": "code",
   "execution_count": null,
   "metadata": {},
   "outputs": [],
   "source": [
    "directory = \"\""
   ]
  },
  {
   "cell_type": "code",
   "execution_count": 6,
   "metadata": {},
   "outputs": [
    {
     "data": {
      "text/plain": [
       "(set(), [])"
      ]
     },
     "execution_count": 6,
     "metadata": {},
     "output_type": "execute_result"
    }
   ],
   "source": [
    "with open(f\"{directory}config.json\") as f:\n",
    "    config = json.load(f)[\"model\"]\n",
    "\n",
    "model = GPT(config)\n",
    "\n",
    "load_model(model, f\"{directory}model.safetensors\")"
   ]
  },
  {
   "cell_type": "code",
   "execution_count": 7,
   "metadata": {},
   "outputs": [],
   "source": [
    "tokenizer = spm.SentencePieceProcessor(\n",
    "    model_file=f'tokenizers/tinynewstokenizer{config[\"vocab_size\"]}.model')"
   ]
  },
  {
   "cell_type": "markdown",
   "metadata": {},
   "source": [
    "### Special Tokens\n",
    "\n",
    "- [0] : Unknown\n",
    "- [1] : BOS - This is prepended by `text_to_token_ids(...)`\n",
    "- [2] : EOS - This is used by `generate(...)` to stop inference\n",
    "- [3] : `</h>` - This token marks the end of the headline"
   ]
  },
  {
   "cell_type": "markdown",
   "metadata": {},
   "source": [
    "### Generating its own headlines:"
   ]
  },
  {
   "cell_type": "code",
   "execution_count": 18,
   "metadata": {},
   "outputs": [
    {
     "name": "stdout",
     "output_type": "stream",
     "text": [
      "government launches new policies to boost economy \n",
      "------------------------------\n",
      " the government has launched new policies aimed at boosting the economy\n",
      " the policies are designed to reduce the country's debt and create more jobs\n",
      " the policies include cutting back on unnecessary jobs and increasing government services\n",
      " many are skeptical about the policies, but many are optimistic about the potential for positive changes\n",
      " the policies are expected to come into effect in the coming months\n",
      "\n"
     ]
    }
   ],
   "source": [
    "token_ids = generate(\n",
    "    model=model,\n",
    "    idx=text_to_token_ids(\"\", tokenizer),\n",
    "    context_length=config[\"context_length\"],\n",
    "    top_k=32,\n",
    "    temperature=1,\n",
    "    eos_id=2\n",
    ")\n",
    "\n",
    "print(token_ids_to_text(token_ids, tokenizer).replace(\"</h>\", \"\\n\" + \"-\" * len(headline) + \"\\n\").replace(\".\", \"\\n\"))"
   ]
  },
  {
   "cell_type": "markdown",
   "metadata": {},
   "source": [
    "### Headline as a prompt:"
   ]
  },
  {
   "cell_type": "code",
   "execution_count": 13,
   "metadata": {},
   "outputs": [
    {
     "name": "stdout",
     "output_type": "stream",
     "text": [
      "local computer learns to think \n",
      "------------------------------\n",
      " a local computer program has been developed to help people learn to think\n",
      " the program uses interactive games and activities to teach people how to solve problems and stay motivated\n",
      " the program has been a huge success, with many people reporting that it has helped them to improve their skills and knowledge\n",
      " the program is expected to continue to grow and evolve\n",
      "\n"
     ]
    }
   ],
   "source": [
    "headline = \"local computer learns to think\"\n",
    "\n",
    "token_ids = generate(\n",
    "    model=model,\n",
    "    idx=text_to_token_ids(headline.lower() + \" </h>\", tokenizer),\n",
    "    context_length=config[\"context_length\"],\n",
    "    top_k=None,\n",
    "    temperature=0,\n",
    "    eos_id=2\n",
    ")\n",
    "\n",
    "print(token_ids_to_text(token_ids, tokenizer).replace(\"</h>\", \"\\n\" + \"-\" * len(headline) + \"\\n\").replace(\".\", \"\\n\"))"
   ]
  },
  {
   "cell_type": "code",
   "execution_count": null,
   "metadata": {},
   "outputs": [],
   "source": []
  }
 ],
 "metadata": {
  "kernelspec": {
   "display_name": "tinynews",
   "language": "python",
   "name": "python3"
  },
  "language_info": {
   "codemirror_mode": {
    "name": "ipython",
    "version": 3
   },
   "file_extension": ".py",
   "mimetype": "text/x-python",
   "name": "python",
   "nbconvert_exporter": "python",
   "pygments_lexer": "ipython3",
   "version": "3.12.3"
  }
 },
 "nbformat": 4,
 "nbformat_minor": 2
}
