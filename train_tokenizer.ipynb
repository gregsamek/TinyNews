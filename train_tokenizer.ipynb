{
 "cells": [
  {
   "cell_type": "code",
   "execution_count": 1,
   "metadata": {},
   "outputs": [],
   "source": [
    "import json\n",
    "import re\n",
    "import sentencepiece as spm\n",
    "from tqdm import tqdm\n",
    "import tiktoken\n",
    "import matplotlib.pyplot as plt"
   ]
  },
  {
   "cell_type": "markdown",
   "metadata": {},
   "source": [
    "### Cleaning Raw Text\n",
    "This notebook begins by processing the raw json that was produced by the `generate_training_data` script. If you're starting from the already cleaned text I uploaded to Hugging Face, you can skip to the next section and load e.g. `train.txt` instead of `cleaned_text.txt`, "
   ]
  },
  {
   "cell_type": "code",
   "execution_count": 2,
   "metadata": {},
   "outputs": [],
   "source": [
    "data = []\n",
    "for epoch in range(123):\n",
    "    with open(f\"training_data/raw_training_data_{epoch}.json\") as f:\n",
    "        data.extend(json.load(f))"
   ]
  },
  {
   "cell_type": "code",
   "execution_count": 174,
   "metadata": {},
   "outputs": [
    {
     "data": {
      "text/plain": [
       "107471"
      ]
     },
     "execution_count": 174,
     "metadata": {},
     "output_type": "execute_result"
    }
   ],
   "source": [
    "len(data)"
   ]
  },
  {
   "cell_type": "code",
   "execution_count": 195,
   "metadata": {},
   "outputs": [
    {
     "name": "stderr",
     "output_type": "stream",
     "text": [
      "100%|██████████| 107471/107471 [00:16<00:00, 6358.32it/s]\n"
     ]
    }
   ],
   "source": [
    "cleaned_text = []\n",
    "\n",
    "for batch in tqdm(data):\n",
    "\n",
    "    samples = batch.split('\\nNote: ')[0]\n",
    "\n",
    "    replacements = [\n",
    "        (r'</hassistant', '</h1>MALFORMED'),\n",
    "        (r'<p/', ''),\n",
    "        (r'<p', ''),\n",
    "        (r'/p', ''),\n",
    "        (r'</1>', '<h1>'),\n",
    "        (r'h1/', 'h1>'),\n",
    "        (r' h1 ', ''),\n",
    "        (r'/h1', 'h1'),\n",
    "        (r'\\n', ''),\n",
    "        (r'<', ''),\n",
    "        (r'>', ''),\n",
    "        (r'=', ''),\n",
    "        (r'\\\\', ''),\n",
    "        (r'`', ''),\n",
    "        (r';', ''),\n",
    "        (r'\\+', ''),\n",
    "        (r'_', ' '),\n",
    "    ]\n",
    "\n",
    "    for pattern, repl in replacements:\n",
    "        samples = re.sub(pattern, repl, samples)\n",
    "\n",
    "    samples = samples.lower()\n",
    "\n",
    "    samples = samples.split('h1')\n",
    "\n",
    "    samples = [s.strip() for s in samples if s]\n",
    "\n",
    "    # Check for title/article count\n",
    "    if len(samples) not in (18, 20, 22, 24, 38, 40):\n",
    "        continue\n",
    "\n",
    "    bad_samples = []\n",
    "    \n",
    "    for i in range(0, len(samples) - 1, 2):\n",
    "\n",
    "        pattern = r'[\\[\\]\\(\\)\\/\\@\\#\\^]|\\.{3}'\n",
    "\n",
    "        conditions = [\n",
    "            re.search(pattern, samples[i]),\n",
    "            re.search(pattern, samples[i+1]),\n",
    "            re.search(r'headline', samples[i]),\n",
    "            len(samples[i]) < 16,\n",
    "            len(samples[i]) > 80,\n",
    "            len(samples[i+1]) < 150,\n",
    "        ]\n",
    "\n",
    "        if any(conditions):\n",
    "            bad_samples.extend([i, i+1])\n",
    "            continue\n",
    "        \n",
    "        samples[i] = re.sub(r'^[^a-z0-9]', '', samples[i])\n",
    "        samples[i+1] = re.sub(r'^[^a-z0-9]', '', samples[i+1])\n",
    "\n",
    "        if samples[i+1].count('.') < 2:\n",
    "            bad_samples.extend([i, i+1])\n",
    "            continue\n",
    "\n",
    "    cleaned_samples = []\n",
    "\n",
    "    for i, s in enumerate(samples):\n",
    "        if i not in bad_samples:\n",
    "            cleaned_samples.append(s)\n",
    "\n",
    "    cleaned_text.extend(cleaned_samples)"
   ]
  },
  {
   "cell_type": "code",
   "execution_count": 196,
   "metadata": {},
   "outputs": [
    {
     "data": {
      "text/plain": [
       "1081379.0"
      ]
     },
     "execution_count": 196,
     "metadata": {},
     "output_type": "execute_result"
    }
   ],
   "source": [
    "len(cleaned_text)/2"
   ]
  },
  {
   "cell_type": "code",
   "execution_count": 197,
   "metadata": {},
   "outputs": [
    {
     "data": {
      "text/plain": [
       "['standardized testing to become mandatory for all students',\n",
       " \"the government has announced that standardized testing will become mandatory for all students. the tests are designed to measure a student's knowledge and skills in various subjects. the government says the tests will help identify areas where students need improvement and will allow schools to provide targeted support. many students and teachers are concerned about the stress and pressure the tests will bring. the tests are expected to start next year.\"]"
      ]
     },
     "execution_count": 197,
     "metadata": {},
     "output_type": "execute_result"
    }
   ],
   "source": [
    "cleaned_text[:2]"
   ]
  },
  {
   "cell_type": "code",
   "execution_count": 202,
   "metadata": {},
   "outputs": [],
   "source": [
    "with open('training_data/cleaned_text.txt', 'w') as f:\n",
    "    for i in range(0, len(cleaned_text) - 1, 2):\n",
    "        f.write(f'{cleaned_text[i]} </h> {cleaned_text[i+1]}\\n')"
   ]
  },
  {
   "cell_type": "code",
   "execution_count": 3,
   "metadata": {},
   "outputs": [],
   "source": [
    "cleaned_text = []\n",
    "with open('training_data/cleaned_text.txt', 'r') as f:\n",
    "    for line in f:\n",
    "        cleaned_text.append(line.strip())"
   ]
  },
  {
   "cell_type": "markdown",
   "metadata": {},
   "source": [
    "### Training the Tokenizers"
   ]
  },
  {
   "cell_type": "code",
   "execution_count": null,
   "metadata": {},
   "outputs": [],
   "source": [
    "user_defined_symbols = [\"</h>\", \"%\", \":\", '\"', \"!\", \"$\", \"?\", \"0\", \"1\", \"2\", \"3\", \"4\", \"5\", \"6\", \"7\", \"8\", \"9\"]\n",
    "\n",
    "for tok_size in [1024, 2048, 4096, 8192, 16384]:\n",
    "    spm.SentencePieceTrainer.train(\n",
    "        input='training_data/cleaned_text.txt',\n",
    "        model_prefix=f'tokenizers/tinynewstokenizer{tok_size}',\n",
    "        vocab_size=tok_size,\n",
    "        model_type='bpe',\n",
    "        user_defined_symbols=user_defined_symbols\n",
    "    )"
   ]
  },
  {
   "cell_type": "code",
   "execution_count": 4,
   "metadata": {},
   "outputs": [
    {
     "name": "stdout",
     "output_type": "stream",
     "text": [
      "['▁st', 'and', 'ard', 'ized', '▁test', 'ing', '▁to', '▁become', '▁m', 'and', 'at', 'ory', '▁for', '▁all', '▁students', '▁', '</h>', '▁the', '▁government', '▁has', '▁an', 'no', 'un', 'ced', '▁that', '▁st', 'and', 'ard', 'ized', '▁test', 'ing', '▁will', '▁become', '▁m', 'and', 'at', 'ory', '▁for', '▁all', '▁students', '.', '▁the', '▁t', 'es', 'ts', '▁are', '▁designed', '▁to', '▁me', 'as', 'ure', '▁a', '▁student', \"'\", 's', '▁k', 'n', 'ow', 'l', 'ed', 'ge', '▁and', '▁sk', 'ills', '▁in', '▁var', 'ious', '▁su', 'b', 'ject', 's', '.', '▁the', '▁government', '▁s', 'ays', '▁the', '▁t', 'es', 'ts', '▁will', '▁help', '▁', 'ident', 'if', 'y', '▁are', 'as', '▁whe', 're', '▁students', '▁need', '▁improve', 'ment', '▁and', '▁will', '▁allow', '▁school', 's', '▁to', '▁provide', '▁t', 'ar', 'get', 'ed', '▁support', '.', '▁many', '▁students', '▁and', '▁teac', 'hers', '▁are', '▁concern', 'ed', '▁about', '▁the', '▁st', 'ress', '▁and', '▁p', 'ress', 'ure', '▁the', '▁t', 'es', 'ts', '▁will', '▁bring', '.', '▁the', '▁t', 'es', 'ts', '▁are', '▁expected', '▁to', '▁start', '▁next', '▁year', '.']\n",
      "['▁stand', 'ard', 'ized', '▁test', 'ing', '▁to', '▁become', '▁m', 'and', 'at', 'ory', '▁for', '▁all', '▁students', '▁', '</h>', '▁the', '▁government', '▁has', '▁announced', '▁that', '▁stand', 'ard', 'ized', '▁test', 'ing', '▁will', '▁become', '▁m', 'and', 'at', 'ory', '▁for', '▁all', '▁students', '.', '▁the', '▁t', 'ests', '▁are', '▁designed', '▁to', '▁meas', 'ure', '▁a', '▁student', \"'\", 's', '▁know', 'led', 'ge', '▁and', '▁skills', '▁in', '▁var', 'ious', '▁sub', 'ject', 's', '.', '▁the', '▁government', '▁says', '▁the', '▁t', 'ests', '▁will', '▁help', '▁ident', 'ify', '▁areas', '▁where', '▁students', '▁need', '▁improve', 'ment', '▁and', '▁will', '▁allow', '▁schools', '▁to', '▁provide', '▁t', 'ar', 'get', 'ed', '▁support', '.', '▁many', '▁students', '▁and', '▁teachers', '▁are', '▁concerned', '▁about', '▁the', '▁stress', '▁and', '▁p', 'ress', 'ure', '▁the', '▁t', 'ests', '▁will', '▁bring', '.', '▁the', '▁t', 'ests', '▁are', '▁expected', '▁to', '▁start', '▁next', '▁year', '.']\n",
      "['▁standard', 'ized', '▁testing', '▁to', '▁become', '▁m', 'and', 'atory', '▁for', '▁all', '▁students', '▁', '</h>', '▁the', '▁government', '▁has', '▁announced', '▁that', '▁standard', 'ized', '▁testing', '▁will', '▁become', '▁m', 'and', 'atory', '▁for', '▁all', '▁students', '.', '▁the', '▁t', 'ests', '▁are', '▁designed', '▁to', '▁measure', '▁a', '▁student', \"'\", 's', '▁knowledge', '▁and', '▁skills', '▁in', '▁various', '▁subject', 's', '.', '▁the', '▁government', '▁says', '▁the', '▁t', 'ests', '▁will', '▁help', '▁identify', '▁areas', '▁where', '▁students', '▁need', '▁improvement', '▁and', '▁will', '▁allow', '▁schools', '▁to', '▁provide', '▁target', 'ed', '▁support', '.', '▁many', '▁students', '▁and', '▁teachers', '▁are', '▁concerned', '▁about', '▁the', '▁stress', '▁and', '▁pressure', '▁the', '▁t', 'ests', '▁will', '▁bring', '.', '▁the', '▁t', 'ests', '▁are', '▁expected', '▁to', '▁start', '▁next', '▁year', '.']\n",
      "['▁standard', 'ized', '▁testing', '▁to', '▁become', '▁mand', 'atory', '▁for', '▁all', '▁students', '▁', '</h>', '▁the', '▁government', '▁has', '▁announced', '▁that', '▁standard', 'ized', '▁testing', '▁will', '▁become', '▁mand', 'atory', '▁for', '▁all', '▁students', '.', '▁the', '▁tests', '▁are', '▁designed', '▁to', '▁measure', '▁a', '▁student', \"'\", 's', '▁knowledge', '▁and', '▁skills', '▁in', '▁various', '▁subjects', '.', '▁the', '▁government', '▁says', '▁the', '▁tests', '▁will', '▁help', '▁identify', '▁areas', '▁where', '▁students', '▁need', '▁improvement', '▁and', '▁will', '▁allow', '▁schools', '▁to', '▁provide', '▁targeted', '▁support', '.', '▁many', '▁students', '▁and', '▁teachers', '▁are', '▁concerned', '▁about', '▁the', '▁stress', '▁and', '▁pressure', '▁the', '▁tests', '▁will', '▁bring', '.', '▁the', '▁tests', '▁are', '▁expected', '▁to', '▁start', '▁next', '▁year', '.']\n",
      "['▁standard', 'ized', '▁testing', '▁to', '▁become', '▁mand', 'atory', '▁for', '▁all', '▁students', '▁', '</h>', '▁the', '▁government', '▁has', '▁announced', '▁that', '▁standard', 'ized', '▁testing', '▁will', '▁become', '▁mand', 'atory', '▁for', '▁all', '▁students', '.', '▁the', '▁tests', '▁are', '▁designed', '▁to', '▁measure', '▁a', '▁student', \"'\", 's', '▁knowledge', '▁and', '▁skills', '▁in', '▁various', '▁subjects', '.', '▁the', '▁government', '▁says', '▁the', '▁tests', '▁will', '▁help', '▁identify', '▁areas', '▁where', '▁students', '▁need', '▁improvement', '▁and', '▁will', '▁allow', '▁schools', '▁to', '▁provide', '▁targeted', '▁support', '.', '▁many', '▁students', '▁and', '▁teachers', '▁are', '▁concerned', '▁about', '▁the', '▁stress', '▁and', '▁pressure', '▁the', '▁tests', '▁will', '▁bring', '.', '▁the', '▁tests', '▁are', '▁expected', '▁to', '▁start', '▁next', '▁year', '.']\n"
     ]
    }
   ],
   "source": [
    "for tok_size in [1024, 2048, 4096, 8192, 16384]:\n",
    "    sp = spm.SentencePieceProcessor(model_file=f'tokenizers/tinynewstokenizer{tok_size}.model')\n",
    "    print(sp.encode(cleaned_text[0], out_type=str))"
   ]
  },
  {
   "cell_type": "code",
   "execution_count": 6,
   "metadata": {},
   "outputs": [
    {
     "name": "stdout",
     "output_type": "stream",
     "text": [
      "1024: 126.4\n",
      "2048: 105.4\n",
      "4096: 91.7\n",
      "8192: 84.8\n",
      "16384: 84.8\n"
     ]
    }
   ],
   "source": [
    "for tok_size in (1024, 2048, 4096, 8192, 16384):\n",
    "    sp = spm.SentencePieceProcessor(model_file=f'tokenizers/tinynewstokenizer{tok_size}.model')\n",
    "    print(f'{tok_size}: {sum([len(sp.encode(s, out_type=int)) for s in cleaned_text[:100_000]])/100_000:.1f}')"
   ]
  },
  {
   "cell_type": "code",
   "execution_count": 7,
   "metadata": {},
   "outputs": [
    {
     "name": "stdout",
     "output_type": "stream",
     "text": [
      "gpt2 | 50257 | 82.3\n",
      "gpt-4 | 100277 | 82.1\n",
      "gpt-4o | 200019 | 81.6\n"
     ]
    }
   ],
   "source": [
    "for model in ('gpt2', 'gpt-4', 'gpt-4o'):\n",
    "    encoding = tiktoken.encoding_for_model(model)\n",
    "    token_count = sum([len(encoding.encode(s)) for s in cleaned_text[:100_000]])/100_000\n",
    "    print(f'{model} | {encoding.n_vocab} | {token_count:.1f}')"
   ]
  },
  {
   "cell_type": "markdown",
   "metadata": {},
   "source": [
    "| Tokenizer |  Vocab  | Avg # Tokens |\n",
    "|-----------|---------|--------------|\n",
    "| TN-10     |   1,024 |    126.4     |\n",
    "| TN-11     |   2,048 |    105.4     |\n",
    "| TN-12     |   4,096 |     91.7     |\n",
    "| TN-13     |   8,192 |     84.8     |\n",
    "| TN-14     |  16,384 |     84.8     |\n",
    "| gpt2      |  50,257 |     82.3     |\n",
    "| gpt-4     | 100,277 |     82.1     |\n",
    "| gpt-4o    | 200,019 |     81.6     |"
   ]
  },
  {
   "cell_type": "code",
   "execution_count": 240,
   "metadata": {},
   "outputs": [
    {
     "name": "stderr",
     "output_type": "stream",
     "text": [
      "1081379it [09:41, 1858.46it/s]\n"
     ]
    }
   ],
   "source": [
    "tokenizers = {}\n",
    "token_counts = {}\n",
    "\n",
    "for tok_size in [1024, 2048, 4096, 8192, 16384]:\n",
    "    tokenizers[tok_size] = spm.SentencePieceProcessor(model_file=f'tokenizers/tinynewstokenizer{tok_size}.model')\n",
    "    token_counts[tok_size] = []\n",
    "\n",
    "with open('training_data/cleaned_text.txt', 'r') as file:\n",
    "    for line in tqdm(file):\n",
    "        for tok_size in [1024, 2048, 4096, 8192, 16384]:\n",
    "            token_counts[tok_size].append(len(tokenizers[tok_size].encode(line, out_type=int)))"
   ]
  },
  {
   "cell_type": "code",
   "execution_count": 268,
   "metadata": {},
   "outputs": [
    {
     "data": {
      "image/png": "[encoded data removed]",
      "text/plain": [
       "<Figure size 1000x600 with 1 Axes>"
      ]
     },
     "metadata": {},
     "output_type": "display_data"
    }
   ],
   "source": [
    "# Colors for each set\n",
    "colors = ['purple', 'blue', 'green', 'orange', 'red']\n",
    "\n",
    "# Plotting the histograms\n",
    "plt.figure(figsize=(10, 6))\n",
    "\n",
    "for (label, data), color in zip(token_counts.items(), colors):\n",
    "    plt.hist(data, bins=50, color=color, alpha=0.4, label=label)\n",
    "\n",
    "plt.xlabel('Value')\n",
    "plt.ylabel('Frequency')\n",
    "plt.title('Tokenization Efficiency by Vocabulary Size')\n",
    "plt.xlim(50, 200)\n",
    "plt.legend()\n",
    "plt.show()\n"
   ]
  },
  {
   "cell_type": "code",
   "execution_count": 258,
   "metadata": {},
   "outputs": [
    {
     "data": {
      "text/plain": [
       "'99.79% of bulletins tokenized with vocab size 8192 have 128 or fewer tokens'"
      ]
     },
     "execution_count": 258,
     "metadata": {},
     "output_type": "execute_result"
    }
   ],
   "source": [
    "f'{len([n for n in token_counts[8192] if n <= 128]) / len(token_counts[8192]) * 100:.2f}% of bulletins tokenized with vocab size 8192 have 128 or fewer tokens'"
   ]
  }
 ],
 "metadata": {
  "kernelspec": {
   "display_name": "tinynews",
   "language": "python",
   "name": "python3"
  },
  "language_info": {
   "codemirror_mode": {
    "name": "ipython",
    "version": 3
   },
   "file_extension": ".py",
   "mimetype": "text/x-python",
   "name": "python",
   "nbconvert_exporter": "python",
   "pygments_lexer": "ipython3",
   "version": "3.12.3"
  }
 },
 "nbformat": 4,
 "nbformat_minor": 2
}
